{
 "cells": [
  {
   "cell_type": "code",
   "execution_count": null,
   "metadata": {},
   "outputs": [],
   "source": [
    "# Python Machine Learning utilities\n",
    "from sklearn import datasets\n",
    "import numpy as np\n",
    "\n",
    "iris = datasets.load_iris()\n",
    "X = iris.data[:, [2,3]]\n",
    "y = iris.target\n",
    "print(\"class labels: \", np.unique(y))"
   ]
  },
  {
   "cell_type": "code",
   "execution_count": null,
   "metadata": {},
   "outputs": [],
   "source": [
    "from sklearn.model_selection import train_test_split\n",
    "\n",
    "# Split into 30% test and 70% train\n",
    "# Using random_state=1 ensures results are reproducible\n",
    "# stratify=Y means method returns training and test subsets with same proportions of class labels as input data set\n",
    "X_train, X_test, y_train, y_test = train_test_split(X, y, test_size=0.3, random_state=1,stratify=y)\n",
    "\n",
    "print('Labels count in y: ', np.bincount(y))\n",
    "print('Labels count in y_train: ', np.bincount(y_train))\n",
    "print('Labels count in y_test: ', np.bincount(y_test))"
   ]
  },
  {
   "cell_type": "code",
   "execution_count": null,
   "metadata": {},
   "outputs": [],
   "source": [
    "from sklearn.preprocessing import StandardScaler\n",
    "sc = StandardScaler()\n",
    "# Compute the mean and std to be used for later scaling.\n",
    "sc.fit(X_train)\n",
    "# Standardize training and test data using estimated parameters, mu and sigma, calculated in sc.fit()\n",
    "X_train_std = sc.transform(X_train)\n",
    "X_test_std = sc.transform(X_test)"
   ]
  },
  {
   "cell_type": "code",
   "execution_count": null,
   "metadata": {},
   "outputs": [],
   "source": [
    "from sklearn.linear_model import Perceptron\n",
    "#eta0 equivalent to the learning rate\n",
    "ppn = Perceptron(max_iter =40,eta0=0.1,random_state=1)\n",
    "ppn.fit(X_train_std, y_train)\n",
    "\n",
    "y_pred = ppn.predict(X_test_std)\n",
    "print('Missclassified samples: %d' % (y_test !=y_pred).sum())"
   ]
  },
  {
   "cell_type": "code",
   "execution_count": null,
   "metadata": {},
   "outputs": [],
   "source": [
    "from sklearn.metrics import accuracy_score\n",
    "print('Accuracy: %.2f' % accuracy_score(y_test,y_pred))\n",
    "print('Accuracy: %.2f' % ppn.score(X_test_std,y_test))"
   ]
  },
  {
   "cell_type": "code",
   "execution_count": null,
   "metadata": {},
   "outputs": [],
   "source": [
    "from DataScienceProjects.Python_Machine_Learning.utils import plot_decision_regions\n",
    "import matplotlib.pyplot as plt\n",
    "\n",
    "X_combined_std = np.vstack((X_train_std,X_test_std))\n",
    "y_combined = np.hstack((y_train,y_test))\n",
    "plot_decision_regions(X=X_combined_std,y=y_combined,classifier=ppn,test_idx=range(105,150))\n",
    "\n",
    "plt.xlabel('petal length [standardized')\n",
    "plt.ylabel('petal width [standardized')\n",
    "plt.legend(loc='upper left')\n",
    "plt.show()"
   ]
  },
  {
   "cell_type": "code",
   "execution_count": null,
   "metadata": {},
   "outputs": [],
   "source": [
    "from sklearn.linear_model import LogisticRegression\n",
    "lr = LogisticRegression(C=100.0, random_state=1)\n",
    "lr.fit(X_train_std,y_train)\n",
    "plot_decision_regions(X=X_combined_std,y=y_combined,classifier=lr,test_idx=range(105,150))\n",
    "\n",
    "plt.xlabel('petal length [standardized')\n",
    "plt.ylabel('petal width [standardized')\n",
    "plt.legend(loc='upper left')\n",
    "plt.show()\n",
    "\n",
    "# Probability that first three training examples belong to a particular class\n",
    "lr.predict_proba(X_test_std[:4,:])"
   ]
  },
  {
   "cell_type": "code",
   "execution_count": null,
   "metadata": {},
   "outputs": [],
   "source": [
    "from sklearn.svm import SVC\n",
    "svm = SVC(kernel='linear',C=1.0,random_state=1)\n",
    "svm.fit(X_train_std,y_train)\n",
    "plot_decision_regions(X=X_combined_std,y=y_combined,classifier=svm,test_idx=range(105,150))\n",
    "\n",
    "plt.xlabel('petal length [standardized')\n",
    "plt.ylabel('petal width [standardized')\n",
    "plt.legend(loc='upper left')\n",
    "plt.show()"
   ]
  },
  {
   "cell_type": "code",
   "execution_count": null,
   "metadata": {},
   "outputs": [],
   "source": [
    "svm1 = SVC(kernel='rbf',C=1.0,random_state=1,gamma=0.2)\n",
    "svm1.fit(X_train_std,y_train)\n",
    "plot_decision_regions(X=X_combined_std,y=y_combined,classifier=svm1,test_idx=range(105,150))\n",
    "\n",
    "plt.xlabel('petal length [standardized')\n",
    "plt.ylabel('petal width [standardized')\n",
    "plt.legend(loc='upper left')\n",
    "plt.show()\n",
    "\n",
    "svm2 = SVC(kernel='rbf',C=1.0,random_state=1,gamma=100.0)\n",
    "svm2.fit(X_train_std,y_train)\n",
    "plot_decision_regions(X=X_combined_std,y=y_combined,classifier=svm2,test_idx=range(105,150))\n",
    "\n",
    "plt.xlabel('petal length [standardized')\n",
    "plt.ylabel('petal width [standardized')\n",
    "plt.legend(loc='upper left')\n",
    "plt.show()"
   ]
  },
  {
   "cell_type": "code",
   "execution_count": null,
   "metadata": {},
   "outputs": [],
   "source": [
    "from sklearn.tree import DecisionTreeClassifier\n",
    "tree = DecisionTreeClassifier(criterion='gini',max_depth=4,random_state=1)\n",
    "tree.fit(X_train,y_train)\n",
    "X_combined = np.vstack((X_train,X_test))\n",
    "y_combined = np.hstack((y_train,y_test))\n",
    "plot_decision_regions(X=X_combined,y=y_combined,classifier=tree,test_idx=range(105,150))\n",
    "\n",
    "plt.xlabel('petal length [cm]')\n",
    "plt.ylabel('petal width [cm]')\n",
    "plt.legend(loc='upper left')\n",
    "plt.show()"
   ]
  },
  {
   "cell_type": "code",
   "execution_count": null,
   "metadata": {},
   "outputs": [],
   "source": [
    "from sklearn.ensemble import RandomForestClassifier\n",
    "forest = RandomForestClassifier(criterion='gini',n_estimators=25,random_state=1,n_jobs=1)\n",
    "forest.fit(X_train,y_train)\n",
    "plot_decision_regions(X=X_combined,y=y_combined,classifier=forest,test_idx=range(105,150))\n",
    "\n",
    "plt.xlabel('petal length [cm]')\n",
    "plt.ylabel('petal width [cm]')\n",
    "plt.legend(loc='upper left')\n",
    "plt.show()"
   ]
  },
  {
   "cell_type": "code",
   "execution_count": null,
   "metadata": {},
   "outputs": [],
   "source": [
    "from sklearn.neighbors import KNeighborsClassifier\n",
    "knn = KNeighborsClassifier(n_neighbors=5,p=2,metric='minkowski')\n",
    "knn.fit(X_train_std,y_train)\n",
    "plot_decision_regions(X=X_combined_std,y=y_combined,classifier=knn,test_idx=range(105,150))\n",
    "\n",
    "plt.xlabel('petal length [standardized]')\n",
    "plt.ylabel('petal width [standardized]')\n",
    "plt.legend(loc='upper left')\n",
    "plt.show()"
   ]
  }
 ],
 "metadata": {
  "kernelspec": {
   "display_name": "Python 3",
   "language": "python",
   "name": "python3"
  },
  "language_info": {
   "codemirror_mode": {
    "name": "ipython",
    "version": 3
   },
   "file_extension": ".py",
   "mimetype": "text/x-python",
   "name": "python",
   "nbconvert_exporter": "python",
   "pygments_lexer": "ipython3",
   "version": "3.6.3"
  }
 },
 "nbformat": 4,
 "nbformat_minor": 1
}
